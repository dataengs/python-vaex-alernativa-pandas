{
 "cells": [
  {
   "cell_type": "code",
   "execution_count": null,
   "metadata": {},
   "outputs": [],
   "source": [
    "import vaex\n",
    "import pandas as pd\n",
    "import numpy as np\n",
    "\n",
    "#Cria panda DataFrame com 1 milhão de linhas e 100 colunas\n",
    "rows = 1000000\n",
    "cols = 100\n",
    "df = pd.DataFrame(np.random.randint(0, 100, size=(rows, cols)), columns=['col%d' % i for i in range(cols)])\n",
    "\n",
    "#Salva arquivo em csv\n",
    "file_path = 'dataset.csv'\n",
    "df.to_csv(file_path, index=False)\n",
    "\n",
    "#Le arquivo csv e converte arquivo para HDF5 para ter os beneficios do vaex\n",
    "dv = vaex.from_csv(file_path, convert=True, chunk_size=5_000_000)"
   ]
  },
  {
   "cell_type": "code",
   "execution_count": null,
   "metadata": {},
   "outputs": [],
   "source": [
    "%%time\n",
    "dv = vaex.open('dataset.csv.hdf5')"
   ]
  },
  {
   "cell_type": "code",
   "execution_count": null,
   "metadata": {},
   "outputs": [],
   "source": [
    "%%time\n",
    "df_teste = pd.read_csv('dataset.csv')"
   ]
  }
 ],
 "metadata": {
  "language_info": {
   "name": "python"
  },
  "orig_nbformat": 4
 },
 "nbformat": 4,
 "nbformat_minor": 2
}
